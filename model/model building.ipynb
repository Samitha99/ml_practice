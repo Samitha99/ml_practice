{
 "cells": [
  {
   "cell_type": "code",
   "execution_count": 3,
   "id": "f1864414",
   "metadata": {},
   "outputs": [
    {
     "name": "stdout",
     "output_type": "stream",
     "text": [
      "Requirement already satisfied: numpy in d:\\work\\sliit\\y3_1st_sem\\fdm\\practice\\mchine lerning_laptop_rpice\\myone\\model\\env\\lib\\site-packages (1.23.4)\n",
      "Requirement already satisfied: pandas in d:\\work\\sliit\\y3_1st_sem\\fdm\\practice\\mchine lerning_laptop_rpice\\myone\\model\\env\\lib\\site-packages (1.5.0)\n",
      "Requirement already satisfied: numpy>=1.21.0 in d:\\work\\sliit\\y3_1st_sem\\fdm\\practice\\mchine lerning_laptop_rpice\\myone\\model\\env\\lib\\site-packages (from pandas) (1.23.4)\n",
      "Requirement already satisfied: pytz>=2020.1 in d:\\work\\sliit\\y3_1st_sem\\fdm\\practice\\mchine lerning_laptop_rpice\\myone\\model\\env\\lib\\site-packages (from pandas) (2022.4)\n",
      "Requirement already satisfied: python-dateutil>=2.8.1 in d:\\work\\sliit\\y3_1st_sem\\fdm\\practice\\mchine lerning_laptop_rpice\\myone\\model\\env\\lib\\site-packages (from pandas) (2.8.2)\n",
      "Requirement already satisfied: six>=1.5 in d:\\work\\sliit\\y3_1st_sem\\fdm\\practice\\mchine lerning_laptop_rpice\\myone\\model\\env\\lib\\site-packages (from python-dateutil>=2.8.1->pandas) (1.16.0)\n"
     ]
    }
   ],
   "source": [
    "!pip install numpy\n",
    "!pip install pandas"
   ]
  },
  {
   "cell_type": "code",
   "execution_count": 5,
   "id": "13cef8e1",
   "metadata": {},
   "outputs": [],
   "source": [
    "import numpy as np\n",
    "import pandas as pd"
   ]
  },
  {
   "cell_type": "code",
   "execution_count": null,
   "id": "8292c0ec",
   "metadata": {},
   "outputs": [],
   "source": []
  }
 ],
 "metadata": {
  "kernelspec": {
   "display_name": "Python 3 (ipykernel)",
   "language": "python",
   "name": "python3"
  },
  "language_info": {
   "codemirror_mode": {
    "name": "ipython",
    "version": 3
   },
   "file_extension": ".py",
   "mimetype": "text/x-python",
   "name": "python",
   "nbconvert_exporter": "python",
   "pygments_lexer": "ipython3",
   "version": "3.10.5"
  }
 },
 "nbformat": 4,
 "nbformat_minor": 5
}
